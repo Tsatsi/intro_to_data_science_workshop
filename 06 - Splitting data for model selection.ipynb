{
 "cells": [
  {
   "cell_type": "markdown",
   "metadata": {},
   "source": [
    "# Model selection with test sets"
   ]
  },
  {
   "cell_type": "markdown",
   "metadata": {},
   "source": [
    "When we evaluated the linear regression model in section 03, it was mentioned that it's not recommended to assess a model by evaluating it in the same dataset that was used to train it.\n",
    "\n",
    "This recommendation comes from the fact that a model may *overfit* to a specific dataset: it models that data so well that the model is not able to work with new information.\n",
    "\n",
    "One way to avoid it is to split our data into a **training** dataset and a **testing** dataset: the former is used to build different models; the latter is used to select the best one."
   ]
  },
  {
   "cell_type": "code",
   "execution_count": 1,
   "metadata": {
    "collapsed": true
   },
   "outputs": [],
   "source": [
    "import pandas as pd\n",
    "import matplotlib.pyplot as plt\n",
    "%matplotlib inline\n",
    "\n",
    "boston = pd.read_csv('datasets/boston.csv')"
   ]
  },
  {
   "cell_type": "markdown",
   "metadata": {},
   "source": [
    "To split our data, we'll be using scikit-learn's *train_test_split()* function. This function receives a dataset and a parameter specifying what proportion of it should be allocated for training and for testing:"
   ]
  },
  {
   "cell_type": "code",
   "execution_count": 2,
   "metadata": {
    "collapsed": false
   },
   "outputs": [],
   "source": [
    "from sklearn.cross_validation import train_test_split\n",
    "boston_training, boston_testing = train_test_split(boston, test_size=0.25)"
   ]
  },
  {
   "cell_type": "markdown",
   "metadata": {},
   "source": [
    "Let's create two linear regression models using our training dataset: one containing all the features and another one containing only two features."
   ]
  },
  {
   "cell_type": "code",
   "execution_count": 3,
   "metadata": {
    "collapsed": false
   },
   "outputs": [],
   "source": [
    "y_training = boston_training.medv.values.reshape(-1, 1)\n",
    "y_testing = boston_testing.medv.values.reshape(-1, 1)\n",
    "\n",
    "X1_training = boston_training.drop('medv', axis=1).values\n",
    "X1_testing = boston_testing.drop('medv', axis=1).values\n",
    "X2_training = boston_training[['crim', 'age']].values\n",
    "X2_testing = boston_testing[['crim', 'age']].values"
   ]
  },
  {
   "cell_type": "code",
   "execution_count": 4,
   "metadata": {
    "collapsed": false
   },
   "outputs": [],
   "source": [
    "from sklearn.linear_model import LinearRegression\n",
    "\n",
    "lr1 = LinearRegression().fit(X1_training, y_training)\n",
    "lr2 = LinearRegression().fit(X2_training, y_training)"
   ]
  },
  {
   "cell_type": "code",
   "execution_count": 5,
   "metadata": {
    "collapsed": false
   },
   "outputs": [
    {
     "name": "stdout",
     "output_type": "stream",
     "text": [
      "All features error:  21.0088072501\n",
      "Crime and age features error:  64.1549200059\n"
     ]
    }
   ],
   "source": [
    "from sklearn.metrics import mean_squared_error\n",
    "\n",
    "print('All features error: ', mean_squared_error(y_testing, lr1.predict(X1_testing)))\n",
    "print('Crime and age features error: ', mean_squared_error(y_testing, lr2.predict(X2_testing)))"
   ]
  }
 ],
 "metadata": {
  "anaconda-cloud": {},
  "kernelspec": {
   "display_name": "Python [conda root]",
   "language": "python",
   "name": "conda-root-py"
  },
  "language_info": {
   "codemirror_mode": {
    "name": "ipython",
    "version": 3
   },
   "file_extension": ".py",
   "mimetype": "text/x-python",
   "name": "python",
   "nbconvert_exporter": "python",
   "pygments_lexer": "ipython3",
   "version": "3.5.2"
  }
 },
 "nbformat": 4,
 "nbformat_minor": 1
}
